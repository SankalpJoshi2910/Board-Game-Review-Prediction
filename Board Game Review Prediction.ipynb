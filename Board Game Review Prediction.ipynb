{
 "cells": [
  {
   "cell_type": "markdown",
   "metadata": {},
   "source": [
    "# IMPORTING MODULES"
   ]
  },
  {
   "cell_type": "code",
   "execution_count": 159,
   "metadata": {},
   "outputs": [],
   "source": [
    "import sys\n",
    "import matplotlib.pyplot as plt\n",
    "%matplotlib inline\n",
    "import seaborn as sns\n",
    "import sklearn\n",
    "import pandas as pd\n",
    "import numpy as np\n",
    "import warnings\n",
    "warnings.filterwarnings(\"ignore\")"
   ]
  },
  {
   "cell_type": "markdown",
   "metadata": {},
   "source": [
    "# LOADING GAME DATA"
   ]
  },
  {
   "cell_type": "code",
   "execution_count": 160,
   "metadata": {},
   "outputs": [
    {
     "data": {
      "text/html": [
       "<div>\n",
       "<style scoped>\n",
       "    .dataframe tbody tr th:only-of-type {\n",
       "        vertical-align: middle;\n",
       "    }\n",
       "\n",
       "    .dataframe tbody tr th {\n",
       "        vertical-align: top;\n",
       "    }\n",
       "\n",
       "    .dataframe thead th {\n",
       "        text-align: right;\n",
       "    }\n",
       "</style>\n",
       "<table border=\"1\" class=\"dataframe\">\n",
       "  <thead>\n",
       "    <tr style=\"text-align: right;\">\n",
       "      <th></th>\n",
       "      <th>id</th>\n",
       "      <th>type</th>\n",
       "      <th>name</th>\n",
       "      <th>yearpublished</th>\n",
       "      <th>minplayers</th>\n",
       "      <th>maxplayers</th>\n",
       "      <th>playingtime</th>\n",
       "      <th>minplaytime</th>\n",
       "      <th>maxplaytime</th>\n",
       "      <th>minage</th>\n",
       "      <th>users_rated</th>\n",
       "      <th>average_rating</th>\n",
       "      <th>bayes_average_rating</th>\n",
       "      <th>total_owners</th>\n",
       "      <th>total_traders</th>\n",
       "      <th>total_wanters</th>\n",
       "      <th>total_wishers</th>\n",
       "      <th>total_comments</th>\n",
       "      <th>total_weights</th>\n",
       "      <th>average_weight</th>\n",
       "    </tr>\n",
       "  </thead>\n",
       "  <tbody>\n",
       "    <tr>\n",
       "      <th>0</th>\n",
       "      <td>12333</td>\n",
       "      <td>boardgame</td>\n",
       "      <td>Twilight Struggle</td>\n",
       "      <td>2005.0</td>\n",
       "      <td>2.0</td>\n",
       "      <td>2.0</td>\n",
       "      <td>180.0</td>\n",
       "      <td>180.0</td>\n",
       "      <td>180.0</td>\n",
       "      <td>13.0</td>\n",
       "      <td>20113</td>\n",
       "      <td>8.33774</td>\n",
       "      <td>8.22186</td>\n",
       "      <td>26647</td>\n",
       "      <td>372</td>\n",
       "      <td>1219</td>\n",
       "      <td>5865</td>\n",
       "      <td>5347</td>\n",
       "      <td>2562</td>\n",
       "      <td>3.4785</td>\n",
       "    </tr>\n",
       "    <tr>\n",
       "      <th>1</th>\n",
       "      <td>120677</td>\n",
       "      <td>boardgame</td>\n",
       "      <td>Terra Mystica</td>\n",
       "      <td>2012.0</td>\n",
       "      <td>2.0</td>\n",
       "      <td>5.0</td>\n",
       "      <td>150.0</td>\n",
       "      <td>60.0</td>\n",
       "      <td>150.0</td>\n",
       "      <td>12.0</td>\n",
       "      <td>14383</td>\n",
       "      <td>8.28798</td>\n",
       "      <td>8.14232</td>\n",
       "      <td>16519</td>\n",
       "      <td>132</td>\n",
       "      <td>1586</td>\n",
       "      <td>6277</td>\n",
       "      <td>2526</td>\n",
       "      <td>1423</td>\n",
       "      <td>3.8939</td>\n",
       "    </tr>\n",
       "    <tr>\n",
       "      <th>2</th>\n",
       "      <td>102794</td>\n",
       "      <td>boardgame</td>\n",
       "      <td>Caverna: The Cave Farmers</td>\n",
       "      <td>2013.0</td>\n",
       "      <td>1.0</td>\n",
       "      <td>7.0</td>\n",
       "      <td>210.0</td>\n",
       "      <td>30.0</td>\n",
       "      <td>210.0</td>\n",
       "      <td>12.0</td>\n",
       "      <td>9262</td>\n",
       "      <td>8.28994</td>\n",
       "      <td>8.06886</td>\n",
       "      <td>12230</td>\n",
       "      <td>99</td>\n",
       "      <td>1476</td>\n",
       "      <td>5600</td>\n",
       "      <td>1700</td>\n",
       "      <td>777</td>\n",
       "      <td>3.7761</td>\n",
       "    </tr>\n",
       "    <tr>\n",
       "      <th>3</th>\n",
       "      <td>25613</td>\n",
       "      <td>boardgame</td>\n",
       "      <td>Through the Ages: A Story of Civilization</td>\n",
       "      <td>2006.0</td>\n",
       "      <td>2.0</td>\n",
       "      <td>4.0</td>\n",
       "      <td>240.0</td>\n",
       "      <td>240.0</td>\n",
       "      <td>240.0</td>\n",
       "      <td>12.0</td>\n",
       "      <td>13294</td>\n",
       "      <td>8.20407</td>\n",
       "      <td>8.05804</td>\n",
       "      <td>14343</td>\n",
       "      <td>362</td>\n",
       "      <td>1084</td>\n",
       "      <td>5075</td>\n",
       "      <td>3378</td>\n",
       "      <td>1642</td>\n",
       "      <td>4.1590</td>\n",
       "    </tr>\n",
       "    <tr>\n",
       "      <th>4</th>\n",
       "      <td>3076</td>\n",
       "      <td>boardgame</td>\n",
       "      <td>Puerto Rico</td>\n",
       "      <td>2002.0</td>\n",
       "      <td>2.0</td>\n",
       "      <td>5.0</td>\n",
       "      <td>150.0</td>\n",
       "      <td>90.0</td>\n",
       "      <td>150.0</td>\n",
       "      <td>12.0</td>\n",
       "      <td>39883</td>\n",
       "      <td>8.14261</td>\n",
       "      <td>8.04524</td>\n",
       "      <td>44362</td>\n",
       "      <td>795</td>\n",
       "      <td>861</td>\n",
       "      <td>5414</td>\n",
       "      <td>9173</td>\n",
       "      <td>5213</td>\n",
       "      <td>3.2943</td>\n",
       "    </tr>\n",
       "  </tbody>\n",
       "</table>\n",
       "</div>"
      ],
      "text/plain": [
       "       id       type                                       name  \\\n",
       "0   12333  boardgame                          Twilight Struggle   \n",
       "1  120677  boardgame                              Terra Mystica   \n",
       "2  102794  boardgame                  Caverna: The Cave Farmers   \n",
       "3   25613  boardgame  Through the Ages: A Story of Civilization   \n",
       "4    3076  boardgame                                Puerto Rico   \n",
       "\n",
       "   yearpublished  minplayers  maxplayers  playingtime  minplaytime  \\\n",
       "0         2005.0         2.0         2.0        180.0        180.0   \n",
       "1         2012.0         2.0         5.0        150.0         60.0   \n",
       "2         2013.0         1.0         7.0        210.0         30.0   \n",
       "3         2006.0         2.0         4.0        240.0        240.0   \n",
       "4         2002.0         2.0         5.0        150.0         90.0   \n",
       "\n",
       "   maxplaytime  minage  users_rated  average_rating  bayes_average_rating  \\\n",
       "0        180.0    13.0        20113         8.33774               8.22186   \n",
       "1        150.0    12.0        14383         8.28798               8.14232   \n",
       "2        210.0    12.0         9262         8.28994               8.06886   \n",
       "3        240.0    12.0        13294         8.20407               8.05804   \n",
       "4        150.0    12.0        39883         8.14261               8.04524   \n",
       "\n",
       "   total_owners  total_traders  total_wanters  total_wishers  total_comments  \\\n",
       "0         26647            372           1219           5865            5347   \n",
       "1         16519            132           1586           6277            2526   \n",
       "2         12230             99           1476           5600            1700   \n",
       "3         14343            362           1084           5075            3378   \n",
       "4         44362            795            861           5414            9173   \n",
       "\n",
       "   total_weights  average_weight  \n",
       "0           2562          3.4785  \n",
       "1           1423          3.8939  \n",
       "2            777          3.7761  \n",
       "3           1642          4.1590  \n",
       "4           5213          3.2943  "
      ]
     },
     "execution_count": 160,
     "metadata": {},
     "output_type": "execute_result"
    }
   ],
   "source": [
    "games=pd.read_csv(\"D:/Study/Datasets/Board Game Review/games.csv\")\n",
    "games.head()"
   ]
  },
  {
   "cell_type": "markdown",
   "metadata": {},
   "source": [
    "# DATA INSIGHT"
   ]
  },
  {
   "cell_type": "code",
   "execution_count": 161,
   "metadata": {},
   "outputs": [
    {
     "name": "stdout",
     "output_type": "stream",
     "text": [
      "1 Column is  id\n",
      "2 Column is  type\n",
      "3 Column is  name\n",
      "4 Column is  yearpublished\n",
      "5 Column is  minplayers\n",
      "6 Column is  maxplayers\n",
      "7 Column is  playingtime\n",
      "8 Column is  minplaytime\n",
      "9 Column is  maxplaytime\n",
      "10 Column is  minage\n",
      "11 Column is  users_rated\n",
      "12 Column is  average_rating\n",
      "13 Column is  bayes_average_rating\n",
      "14 Column is  total_owners\n",
      "15 Column is  total_traders\n",
      "16 Column is  total_wanters\n",
      "17 Column is  total_wishers\n",
      "18 Column is  total_comments\n",
      "19 Column is  total_weights\n",
      "20 Column is  average_weight\n"
     ]
    }
   ],
   "source": [
    "# Names of the columns in Dataset\n",
    "\n",
    "for i,col in enumerate(games.columns):\n",
    "    print(i+1,\"Column is \",col)"
   ]
  },
  {
   "cell_type": "code",
   "execution_count": 162,
   "metadata": {},
   "outputs": [
    {
     "data": {
      "text/plain": [
       "Index(['id', 'type', 'name', 'yearpublished', 'minplayers', 'maxplayers',\n",
       "       'playingtime', 'minplaytime', 'maxplaytime', 'minage', 'users_rated',\n",
       "       'average_rating', 'bayes_average_rating', 'total_owners',\n",
       "       'total_traders', 'total_wanters', 'total_wishers', 'total_comments',\n",
       "       'total_weights', 'average_weight'],\n",
       "      dtype='object')"
      ]
     },
     "execution_count": 162,
     "metadata": {},
     "output_type": "execute_result"
    }
   ],
   "source": [
    "games.columns"
   ]
  },
  {
   "cell_type": "code",
   "execution_count": 163,
   "metadata": {},
   "outputs": [
    {
     "data": {
      "text/plain": [
       "\"looking at the coloumns we are most interested in average_rating and that's what we are going to predict\\n   average_weight is the most important factor in predicting as it defines the complexity of the games more the weight more complex the games\""
      ]
     },
     "execution_count": 163,
     "metadata": {},
     "output_type": "execute_result"
    }
   ],
   "source": [
    "'''looking at the coloumns we are most interested in average_rating and that's what we are going to predict\n",
    "   average_weight is the most important factor in predicting as it defines the complexity of the games more the weight more complex the games'''"
   ]
  },
  {
   "cell_type": "code",
   "execution_count": 164,
   "metadata": {},
   "outputs": [
    {
     "name": "stdout",
     "output_type": "stream",
     "text": [
      "Total Number of Rows in Dataset: 81312\n",
      "Total Number of Columns in Dataset: 20\n"
     ]
    }
   ],
   "source": [
    "# Shape of the Dataset\n",
    "\n",
    "print(\"Total Number of Rows in Dataset:\",games.shape[0])\n",
    "print(\"Total Number of Columns in Dataset:\",games.shape[1])\n",
    "\n",
    "# so we have 81,312 different board games "
   ]
  },
  {
   "cell_type": "code",
   "execution_count": 165,
   "metadata": {},
   "outputs": [
    {
     "name": "stdout",
     "output_type": "stream",
     "text": [
      "<class 'pandas.core.frame.DataFrame'>\n",
      "RangeIndex: 81312 entries, 0 to 81311\n",
      "Data columns (total 20 columns):\n",
      "id                      81312 non-null int64\n",
      "type                    81312 non-null object\n",
      "name                    81271 non-null object\n",
      "yearpublished           81309 non-null float64\n",
      "minplayers              81309 non-null float64\n",
      "maxplayers              81309 non-null float64\n",
      "playingtime             81309 non-null float64\n",
      "minplaytime             81309 non-null float64\n",
      "maxplaytime             81309 non-null float64\n",
      "minage                  81309 non-null float64\n",
      "users_rated             81312 non-null int64\n",
      "average_rating          81312 non-null float64\n",
      "bayes_average_rating    81312 non-null float64\n",
      "total_owners            81312 non-null int64\n",
      "total_traders           81312 non-null int64\n",
      "total_wanters           81312 non-null int64\n",
      "total_wishers           81312 non-null int64\n",
      "total_comments          81312 non-null int64\n",
      "total_weights           81312 non-null int64\n",
      "average_weight          81312 non-null float64\n",
      "dtypes: float64(10), int64(8), object(2)\n",
      "memory usage: 12.4+ MB\n",
      "None\n"
     ]
    }
   ],
   "source": [
    "# Info. of the Dataset\n",
    "\n",
    "print(games.info())\n",
    "\n",
    "# so we colmns with missing value"
   ]
  },
  {
   "cell_type": "code",
   "execution_count": 166,
   "metadata": {},
   "outputs": [
    {
     "name": "stdout",
     "output_type": "stream",
     "text": [
      "Total Missing value in Dataset :\n",
      " id                       0\n",
      "type                     0\n",
      "name                    41\n",
      "yearpublished            3\n",
      "minplayers               3\n",
      "maxplayers               3\n",
      "playingtime              3\n",
      "minplaytime              3\n",
      "maxplaytime              3\n",
      "minage                   3\n",
      "users_rated              0\n",
      "average_rating           0\n",
      "bayes_average_rating     0\n",
      "total_owners             0\n",
      "total_traders            0\n",
      "total_wanters            0\n",
      "total_wishers            0\n",
      "total_comments           0\n",
      "total_weights            0\n",
      "average_weight           0\n",
      "dtype: int64\n"
     ]
    }
   ],
   "source": [
    "# Total missing values\n",
    "\n",
    "print(\"Total Missing value in Dataset :\\n\", games.isnull().sum())"
   ]
  },
  {
   "cell_type": "code",
   "execution_count": 167,
   "metadata": {},
   "outputs": [
    {
     "data": {
      "text/html": [
       "<div>\n",
       "<style scoped>\n",
       "    .dataframe tbody tr th:only-of-type {\n",
       "        vertical-align: middle;\n",
       "    }\n",
       "\n",
       "    .dataframe tbody tr th {\n",
       "        vertical-align: top;\n",
       "    }\n",
       "\n",
       "    .dataframe thead th {\n",
       "        text-align: right;\n",
       "    }\n",
       "</style>\n",
       "<table border=\"1\" class=\"dataframe\">\n",
       "  <thead>\n",
       "    <tr style=\"text-align: right;\">\n",
       "      <th></th>\n",
       "      <th>id</th>\n",
       "      <th>yearpublished</th>\n",
       "      <th>minplayers</th>\n",
       "      <th>maxplayers</th>\n",
       "      <th>playingtime</th>\n",
       "      <th>minplaytime</th>\n",
       "      <th>maxplaytime</th>\n",
       "      <th>minage</th>\n",
       "      <th>users_rated</th>\n",
       "      <th>average_rating</th>\n",
       "      <th>bayes_average_rating</th>\n",
       "      <th>total_owners</th>\n",
       "      <th>total_traders</th>\n",
       "      <th>total_wanters</th>\n",
       "      <th>total_wishers</th>\n",
       "      <th>total_comments</th>\n",
       "      <th>total_weights</th>\n",
       "      <th>average_weight</th>\n",
       "    </tr>\n",
       "  </thead>\n",
       "  <tbody>\n",
       "    <tr>\n",
       "      <th>count</th>\n",
       "      <td>81312.000000</td>\n",
       "      <td>81309.000000</td>\n",
       "      <td>81309.000000</td>\n",
       "      <td>81309.000000</td>\n",
       "      <td>81309.000000</td>\n",
       "      <td>81309.000000</td>\n",
       "      <td>81309.000000</td>\n",
       "      <td>81309.000000</td>\n",
       "      <td>81312.000000</td>\n",
       "      <td>81312.000000</td>\n",
       "      <td>81312.000000</td>\n",
       "      <td>81312.000000</td>\n",
       "      <td>81312.000000</td>\n",
       "      <td>81312.000000</td>\n",
       "      <td>81312.000000</td>\n",
       "      <td>81312.000000</td>\n",
       "      <td>81312.000000</td>\n",
       "      <td>81312.000000</td>\n",
       "    </tr>\n",
       "    <tr>\n",
       "      <th>mean</th>\n",
       "      <td>72278.150138</td>\n",
       "      <td>1806.630668</td>\n",
       "      <td>1.992018</td>\n",
       "      <td>5.637703</td>\n",
       "      <td>51.634788</td>\n",
       "      <td>49.276833</td>\n",
       "      <td>51.634788</td>\n",
       "      <td>6.983975</td>\n",
       "      <td>161.886585</td>\n",
       "      <td>4.212144</td>\n",
       "      <td>1.157632</td>\n",
       "      <td>262.502509</td>\n",
       "      <td>9.236423</td>\n",
       "      <td>12.688890</td>\n",
       "      <td>42.719144</td>\n",
       "      <td>49.290031</td>\n",
       "      <td>16.488009</td>\n",
       "      <td>0.908083</td>\n",
       "    </tr>\n",
       "    <tr>\n",
       "      <th>std</th>\n",
       "      <td>58818.237742</td>\n",
       "      <td>588.517834</td>\n",
       "      <td>0.931034</td>\n",
       "      <td>56.076890</td>\n",
       "      <td>345.699969</td>\n",
       "      <td>334.483934</td>\n",
       "      <td>345.699969</td>\n",
       "      <td>5.035138</td>\n",
       "      <td>1145.978126</td>\n",
       "      <td>3.056551</td>\n",
       "      <td>2.340033</td>\n",
       "      <td>1504.536693</td>\n",
       "      <td>39.757408</td>\n",
       "      <td>60.764207</td>\n",
       "      <td>239.292628</td>\n",
       "      <td>284.862853</td>\n",
       "      <td>115.980285</td>\n",
       "      <td>1.176002</td>\n",
       "    </tr>\n",
       "    <tr>\n",
       "      <th>min</th>\n",
       "      <td>1.000000</td>\n",
       "      <td>-3500.000000</td>\n",
       "      <td>0.000000</td>\n",
       "      <td>0.000000</td>\n",
       "      <td>0.000000</td>\n",
       "      <td>0.000000</td>\n",
       "      <td>0.000000</td>\n",
       "      <td>0.000000</td>\n",
       "      <td>0.000000</td>\n",
       "      <td>0.000000</td>\n",
       "      <td>0.000000</td>\n",
       "      <td>0.000000</td>\n",
       "      <td>0.000000</td>\n",
       "      <td>0.000000</td>\n",
       "      <td>0.000000</td>\n",
       "      <td>0.000000</td>\n",
       "      <td>0.000000</td>\n",
       "      <td>0.000000</td>\n",
       "    </tr>\n",
       "    <tr>\n",
       "      <th>25%</th>\n",
       "      <td>21339.750000</td>\n",
       "      <td>1984.000000</td>\n",
       "      <td>2.000000</td>\n",
       "      <td>2.000000</td>\n",
       "      <td>8.000000</td>\n",
       "      <td>10.000000</td>\n",
       "      <td>8.000000</td>\n",
       "      <td>0.000000</td>\n",
       "      <td>0.000000</td>\n",
       "      <td>0.000000</td>\n",
       "      <td>0.000000</td>\n",
       "      <td>1.000000</td>\n",
       "      <td>0.000000</td>\n",
       "      <td>0.000000</td>\n",
       "      <td>0.000000</td>\n",
       "      <td>0.000000</td>\n",
       "      <td>0.000000</td>\n",
       "      <td>0.000000</td>\n",
       "    </tr>\n",
       "    <tr>\n",
       "      <th>50%</th>\n",
       "      <td>43258.000000</td>\n",
       "      <td>2003.000000</td>\n",
       "      <td>2.000000</td>\n",
       "      <td>4.000000</td>\n",
       "      <td>30.000000</td>\n",
       "      <td>30.000000</td>\n",
       "      <td>30.000000</td>\n",
       "      <td>8.000000</td>\n",
       "      <td>2.000000</td>\n",
       "      <td>5.265620</td>\n",
       "      <td>0.000000</td>\n",
       "      <td>7.000000</td>\n",
       "      <td>0.000000</td>\n",
       "      <td>0.000000</td>\n",
       "      <td>1.000000</td>\n",
       "      <td>1.000000</td>\n",
       "      <td>0.000000</td>\n",
       "      <td>0.000000</td>\n",
       "    </tr>\n",
       "    <tr>\n",
       "      <th>75%</th>\n",
       "      <td>128836.500000</td>\n",
       "      <td>2010.000000</td>\n",
       "      <td>2.000000</td>\n",
       "      <td>6.000000</td>\n",
       "      <td>60.000000</td>\n",
       "      <td>60.000000</td>\n",
       "      <td>60.000000</td>\n",
       "      <td>12.000000</td>\n",
       "      <td>16.000000</td>\n",
       "      <td>6.718777</td>\n",
       "      <td>0.000000</td>\n",
       "      <td>51.000000</td>\n",
       "      <td>2.000000</td>\n",
       "      <td>3.000000</td>\n",
       "      <td>7.000000</td>\n",
       "      <td>9.000000</td>\n",
       "      <td>2.000000</td>\n",
       "      <td>1.916700</td>\n",
       "    </tr>\n",
       "    <tr>\n",
       "      <th>max</th>\n",
       "      <td>184451.000000</td>\n",
       "      <td>2018.000000</td>\n",
       "      <td>99.000000</td>\n",
       "      <td>11299.000000</td>\n",
       "      <td>60120.000000</td>\n",
       "      <td>60120.000000</td>\n",
       "      <td>60120.000000</td>\n",
       "      <td>120.000000</td>\n",
       "      <td>53680.000000</td>\n",
       "      <td>10.000000</td>\n",
       "      <td>8.221860</td>\n",
       "      <td>73188.000000</td>\n",
       "      <td>1395.000000</td>\n",
       "      <td>1586.000000</td>\n",
       "      <td>6402.000000</td>\n",
       "      <td>11798.000000</td>\n",
       "      <td>5996.000000</td>\n",
       "      <td>5.000000</td>\n",
       "    </tr>\n",
       "  </tbody>\n",
       "</table>\n",
       "</div>"
      ],
      "text/plain": [
       "                  id  yearpublished    minplayers    maxplayers   playingtime  \\\n",
       "count   81312.000000   81309.000000  81309.000000  81309.000000  81309.000000   \n",
       "mean    72278.150138    1806.630668      1.992018      5.637703     51.634788   \n",
       "std     58818.237742     588.517834      0.931034     56.076890    345.699969   \n",
       "min         1.000000   -3500.000000      0.000000      0.000000      0.000000   \n",
       "25%     21339.750000    1984.000000      2.000000      2.000000      8.000000   \n",
       "50%     43258.000000    2003.000000      2.000000      4.000000     30.000000   \n",
       "75%    128836.500000    2010.000000      2.000000      6.000000     60.000000   \n",
       "max    184451.000000    2018.000000     99.000000  11299.000000  60120.000000   \n",
       "\n",
       "        minplaytime   maxplaytime        minage   users_rated  average_rating  \\\n",
       "count  81309.000000  81309.000000  81309.000000  81312.000000    81312.000000   \n",
       "mean      49.276833     51.634788      6.983975    161.886585        4.212144   \n",
       "std      334.483934    345.699969      5.035138   1145.978126        3.056551   \n",
       "min        0.000000      0.000000      0.000000      0.000000        0.000000   \n",
       "25%       10.000000      8.000000      0.000000      0.000000        0.000000   \n",
       "50%       30.000000     30.000000      8.000000      2.000000        5.265620   \n",
       "75%       60.000000     60.000000     12.000000     16.000000        6.718777   \n",
       "max    60120.000000  60120.000000    120.000000  53680.000000       10.000000   \n",
       "\n",
       "       bayes_average_rating  total_owners  total_traders  total_wanters  \\\n",
       "count          81312.000000  81312.000000   81312.000000   81312.000000   \n",
       "mean               1.157632    262.502509       9.236423      12.688890   \n",
       "std                2.340033   1504.536693      39.757408      60.764207   \n",
       "min                0.000000      0.000000       0.000000       0.000000   \n",
       "25%                0.000000      1.000000       0.000000       0.000000   \n",
       "50%                0.000000      7.000000       0.000000       0.000000   \n",
       "75%                0.000000     51.000000       2.000000       3.000000   \n",
       "max                8.221860  73188.000000    1395.000000    1586.000000   \n",
       "\n",
       "       total_wishers  total_comments  total_weights  average_weight  \n",
       "count   81312.000000    81312.000000   81312.000000    81312.000000  \n",
       "mean       42.719144       49.290031      16.488009        0.908083  \n",
       "std       239.292628      284.862853     115.980285        1.176002  \n",
       "min         0.000000        0.000000       0.000000        0.000000  \n",
       "25%         0.000000        0.000000       0.000000        0.000000  \n",
       "50%         1.000000        1.000000       0.000000        0.000000  \n",
       "75%         7.000000        9.000000       2.000000        1.916700  \n",
       "max      6402.000000    11798.000000    5996.000000        5.000000  "
      ]
     },
     "execution_count": 167,
     "metadata": {},
     "output_type": "execute_result"
    }
   ],
   "source": [
    "# Dataset Description\n",
    "\n",
    "games.describe()"
   ]
  },
  {
   "cell_type": "markdown",
   "metadata": {},
   "source": [
    "# DATA CLEANING AND VISUALIZATION"
   ]
  },
  {
   "cell_type": "code",
   "execution_count": 168,
   "metadata": {},
   "outputs": [
    {
     "data": {
      "image/png": "[encoded data removed]",
      "text/plain": [
       "<Figure size 1440x1440 with 20 Axes>"
      ]
     },
     "metadata": {
      "needs_background": "light"
     },
     "output_type": "display_data"
    }
   ],
   "source": [
    "# Histogram Visualization\n",
    "\n",
    "games.hist(figsize=(20,20))\n",
    "plt.show()"
   ]
  },
  {
   "cell_type": "code",
   "execution_count": 169,
   "metadata": {},
   "outputs": [
    {
     "name": "stdout",
     "output_type": "stream",
     "text": [
      "id                             318\n",
      "type                     boardgame\n",
      "name                    Looney Leo\n",
      "yearpublished                    0\n",
      "minplayers                       0\n",
      "maxplayers                       0\n",
      "playingtime                      0\n",
      "minplaytime                      0\n",
      "maxplaytime                      0\n",
      "minage                           0\n",
      "users_rated                      0\n",
      "average_rating                   0\n",
      "bayes_average_rating             0\n",
      "total_owners                     0\n",
      "total_traders                    0\n",
      "total_wanters                    0\n",
      "total_wishers                    1\n",
      "total_comments                   0\n",
      "total_weights                    0\n",
      "average_weight                   0\n",
      "Name: 13048, dtype: object\n"
     ]
    }
   ],
   "source": [
    "# First row of all the games with zero score\n",
    "\n",
    "print(games[games[\"average_rating\"]==0].iloc[0])"
   ]
  },
  {
   "cell_type": "code",
   "execution_count": 170,
   "metadata": {},
   "outputs": [
    {
     "name": "stdout",
     "output_type": "stream",
     "text": [
      "id                                  12333\n",
      "type                            boardgame\n",
      "name                    Twilight Struggle\n",
      "yearpublished                        2005\n",
      "minplayers                              2\n",
      "maxplayers                              2\n",
      "playingtime                           180\n",
      "minplaytime                           180\n",
      "maxplaytime                           180\n",
      "minage                                 13\n",
      "users_rated                         20113\n",
      "average_rating                    8.33774\n",
      "bayes_average_rating              8.22186\n",
      "total_owners                        26647\n",
      "total_traders                         372\n",
      "total_wanters                        1219\n",
      "total_wishers                        5865\n",
      "total_comments                       5347\n",
      "total_weights                        2562\n",
      "average_weight                     3.4785\n",
      "Name: 0, dtype: object\n"
     ]
    }
   ],
   "source": [
    "# First row of all the games with score greater than zero\n",
    "\n",
    "print(games[games[\"average_rating\"] > 0].iloc[0])"
   ]
  },
  {
   "cell_type": "code",
   "execution_count": 171,
   "metadata": {},
   "outputs": [],
   "source": [
    "# remove any row without user review\n",
    "\n",
    "games=games[games[\"users_rated\"] > 0]"
   ]
  },
  {
   "cell_type": "code",
   "execution_count": 172,
   "metadata": {},
   "outputs": [],
   "source": [
    "#removing any row with missing value\n",
    "\n",
    "games=games.dropna(axis=0)"
   ]
  },
  {
   "cell_type": "code",
   "execution_count": 173,
   "metadata": {},
   "outputs": [
    {
     "data": {
      "image/png": "[encoded data removed]",
      "text/plain": [
       "<Figure size 432x288 with 1 Axes>"
      ]
     },
     "metadata": {
      "needs_background": "light"
     },
     "output_type": "display_data"
    }
   ],
   "source": [
    "# New Histogram for Average_Rating\n",
    "\n",
    "plt.hist(games[\"average_rating\"])\n",
    "plt.show()"
   ]
  },
  {
   "cell_type": "code",
   "execution_count": null,
   "metadata": {},
   "outputs": [],
   "source": []
  },
  {
   "cell_type": "code",
   "execution_count": 174,
   "metadata": {},
   "outputs": [
    {
     "data": {
      "text/plain": [
       "<matplotlib.axes._subplots.AxesSubplot at 0x1e1261c24a8>"
      ]
     },
     "execution_count": 174,
     "metadata": {},
     "output_type": "execute_result"
    },
    {
     "data": {
      "image/png": "[encoded data removed]",
      "text/plain": [
       "<Figure size 432x288 with 1 Axes>"
      ]
     },
     "metadata": {
      "needs_background": "light"
     },
     "output_type": "display_data"
    }
   ],
   "source": [
    "# Dist Plot\n",
    "\n",
    "sns.distplot(games[\"average_rating\"])"
   ]
  },
  {
   "cell_type": "markdown",
   "metadata": {},
   "source": [
    "# BUILDING PREDICTION MODEL"
   ]
  },
  {
   "cell_type": "code",
   "execution_count": 175,
   "metadata": {},
   "outputs": [],
   "source": [
    "# Removing ID column\n",
    "\n",
    "games.drop(['id'],axis=1,inplace=True)\n"
   ]
  },
  {
   "cell_type": "code",
   "execution_count": 176,
   "metadata": {},
   "outputs": [
    {
     "data": {
      "text/html": [
       "<div>\n",
       "<style scoped>\n",
       "    .dataframe tbody tr th:only-of-type {\n",
       "        vertical-align: middle;\n",
       "    }\n",
       "\n",
       "    .dataframe tbody tr th {\n",
       "        vertical-align: top;\n",
       "    }\n",
       "\n",
       "    .dataframe thead th {\n",
       "        text-align: right;\n",
       "    }\n",
       "</style>\n",
       "<table border=\"1\" class=\"dataframe\">\n",
       "  <thead>\n",
       "    <tr style=\"text-align: right;\">\n",
       "      <th></th>\n",
       "      <th>yearpublished</th>\n",
       "      <th>minplayers</th>\n",
       "      <th>maxplayers</th>\n",
       "      <th>playingtime</th>\n",
       "      <th>minplaytime</th>\n",
       "      <th>maxplaytime</th>\n",
       "      <th>minage</th>\n",
       "      <th>users_rated</th>\n",
       "      <th>average_rating</th>\n",
       "      <th>bayes_average_rating</th>\n",
       "      <th>total_owners</th>\n",
       "      <th>total_traders</th>\n",
       "      <th>total_wanters</th>\n",
       "      <th>total_wishers</th>\n",
       "      <th>total_comments</th>\n",
       "      <th>total_weights</th>\n",
       "      <th>average_weight</th>\n",
       "    </tr>\n",
       "  </thead>\n",
       "  <tbody>\n",
       "    <tr>\n",
       "      <th>yearpublished</th>\n",
       "      <td>1.000000</td>\n",
       "      <td>0.004308</td>\n",
       "      <td>0.004977</td>\n",
       "      <td>0.006235</td>\n",
       "      <td>0.005245</td>\n",
       "      <td>0.006235</td>\n",
       "      <td>0.125281</td>\n",
       "      <td>0.037454</td>\n",
       "      <td>0.108461</td>\n",
       "      <td>0.140998</td>\n",
       "      <td>0.047740</td>\n",
       "      <td>0.064403</td>\n",
       "      <td>0.062289</td>\n",
       "      <td>0.052534</td>\n",
       "      <td>0.043818</td>\n",
       "      <td>0.036226</td>\n",
       "      <td>0.125318</td>\n",
       "    </tr>\n",
       "    <tr>\n",
       "      <th>minplayers</th>\n",
       "      <td>0.004308</td>\n",
       "      <td>1.000000</td>\n",
       "      <td>0.037155</td>\n",
       "      <td>0.024320</td>\n",
       "      <td>0.026569</td>\n",
       "      <td>0.024320</td>\n",
       "      <td>0.110886</td>\n",
       "      <td>0.020364</td>\n",
       "      <td>-0.032701</td>\n",
       "      <td>0.034915</td>\n",
       "      <td>0.014594</td>\n",
       "      <td>0.024708</td>\n",
       "      <td>-0.008654</td>\n",
       "      <td>-0.003786</td>\n",
       "      <td>0.023033</td>\n",
       "      <td>0.019061</td>\n",
       "      <td>-0.021892</td>\n",
       "    </tr>\n",
       "    <tr>\n",
       "      <th>maxplayers</th>\n",
       "      <td>0.004977</td>\n",
       "      <td>0.037155</td>\n",
       "      <td>1.000000</td>\n",
       "      <td>-0.001020</td>\n",
       "      <td>-0.000950</td>\n",
       "      <td>-0.001020</td>\n",
       "      <td>0.004508</td>\n",
       "      <td>-0.000858</td>\n",
       "      <td>-0.008335</td>\n",
       "      <td>-0.003437</td>\n",
       "      <td>-0.000977</td>\n",
       "      <td>-0.002381</td>\n",
       "      <td>-0.003585</td>\n",
       "      <td>-0.002499</td>\n",
       "      <td>-0.001502</td>\n",
       "      <td>-0.001457</td>\n",
       "      <td>-0.013448</td>\n",
       "    </tr>\n",
       "    <tr>\n",
       "      <th>playingtime</th>\n",
       "      <td>0.006235</td>\n",
       "      <td>0.024320</td>\n",
       "      <td>-0.001020</td>\n",
       "      <td>1.000000</td>\n",
       "      <td>0.967909</td>\n",
       "      <td>1.000000</td>\n",
       "      <td>0.053471</td>\n",
       "      <td>0.010908</td>\n",
       "      <td>0.048994</td>\n",
       "      <td>0.045341</td>\n",
       "      <td>0.014532</td>\n",
       "      <td>0.019264</td>\n",
       "      <td>0.024289</td>\n",
       "      <td>0.020296</td>\n",
       "      <td>0.016890</td>\n",
       "      <td>0.017789</td>\n",
       "      <td>0.090895</td>\n",
       "    </tr>\n",
       "    <tr>\n",
       "      <th>minplaytime</th>\n",
       "      <td>0.005245</td>\n",
       "      <td>0.026569</td>\n",
       "      <td>-0.000950</td>\n",
       "      <td>0.967909</td>\n",
       "      <td>1.000000</td>\n",
       "      <td>0.967909</td>\n",
       "      <td>0.052454</td>\n",
       "      <td>0.005502</td>\n",
       "      <td>0.043985</td>\n",
       "      <td>0.041845</td>\n",
       "      <td>0.008975</td>\n",
       "      <td>0.014484</td>\n",
       "      <td>0.017491</td>\n",
       "      <td>0.012737</td>\n",
       "      <td>0.010046</td>\n",
       "      <td>0.010172</td>\n",
       "      <td>0.084405</td>\n",
       "    </tr>\n",
       "    <tr>\n",
       "      <th>maxplaytime</th>\n",
       "      <td>0.006235</td>\n",
       "      <td>0.024320</td>\n",
       "      <td>-0.001020</td>\n",
       "      <td>1.000000</td>\n",
       "      <td>0.967909</td>\n",
       "      <td>1.000000</td>\n",
       "      <td>0.053471</td>\n",
       "      <td>0.010908</td>\n",
       "      <td>0.048994</td>\n",
       "      <td>0.045341</td>\n",
       "      <td>0.014532</td>\n",
       "      <td>0.019264</td>\n",
       "      <td>0.024289</td>\n",
       "      <td>0.020296</td>\n",
       "      <td>0.016890</td>\n",
       "      <td>0.017789</td>\n",
       "      <td>0.090895</td>\n",
       "    </tr>\n",
       "    <tr>\n",
       "      <th>minage</th>\n",
       "      <td>0.125281</td>\n",
       "      <td>0.110886</td>\n",
       "      <td>0.004508</td>\n",
       "      <td>0.053471</td>\n",
       "      <td>0.052454</td>\n",
       "      <td>0.053471</td>\n",
       "      <td>1.000000</td>\n",
       "      <td>0.097885</td>\n",
       "      <td>0.210049</td>\n",
       "      <td>0.266937</td>\n",
       "      <td>0.118564</td>\n",
       "      <td>0.152313</td>\n",
       "      <td>0.154097</td>\n",
       "      <td>0.137476</td>\n",
       "      <td>0.113395</td>\n",
       "      <td>0.097084</td>\n",
       "      <td>0.259782</td>\n",
       "    </tr>\n",
       "    <tr>\n",
       "      <th>users_rated</th>\n",
       "      <td>0.037454</td>\n",
       "      <td>0.020364</td>\n",
       "      <td>-0.000858</td>\n",
       "      <td>0.010908</td>\n",
       "      <td>0.005502</td>\n",
       "      <td>0.010908</td>\n",
       "      <td>0.097885</td>\n",
       "      <td>1.000000</td>\n",
       "      <td>0.112564</td>\n",
       "      <td>0.317992</td>\n",
       "      <td>0.977664</td>\n",
       "      <td>0.807873</td>\n",
       "      <td>0.702433</td>\n",
       "      <td>0.805116</td>\n",
       "      <td>0.978708</td>\n",
       "      <td>0.975723</td>\n",
       "      <td>0.150597</td>\n",
       "    </tr>\n",
       "    <tr>\n",
       "      <th>average_rating</th>\n",
       "      <td>0.108461</td>\n",
       "      <td>-0.032701</td>\n",
       "      <td>-0.008335</td>\n",
       "      <td>0.048994</td>\n",
       "      <td>0.043985</td>\n",
       "      <td>0.048994</td>\n",
       "      <td>0.210049</td>\n",
       "      <td>0.112564</td>\n",
       "      <td>1.000000</td>\n",
       "      <td>0.231563</td>\n",
       "      <td>0.137478</td>\n",
       "      <td>0.119452</td>\n",
       "      <td>0.196566</td>\n",
       "      <td>0.171375</td>\n",
       "      <td>0.123714</td>\n",
       "      <td>0.109691</td>\n",
       "      <td>0.351081</td>\n",
       "    </tr>\n",
       "    <tr>\n",
       "      <th>bayes_average_rating</th>\n",
       "      <td>0.140998</td>\n",
       "      <td>0.034915</td>\n",
       "      <td>-0.003437</td>\n",
       "      <td>0.045341</td>\n",
       "      <td>0.041845</td>\n",
       "      <td>0.045341</td>\n",
       "      <td>0.266937</td>\n",
       "      <td>0.317992</td>\n",
       "      <td>0.231563</td>\n",
       "      <td>1.000000</td>\n",
       "      <td>0.371017</td>\n",
       "      <td>0.455021</td>\n",
       "      <td>0.426708</td>\n",
       "      <td>0.377213</td>\n",
       "      <td>0.371031</td>\n",
       "      <td>0.313302</td>\n",
       "      <td>0.482356</td>\n",
       "    </tr>\n",
       "    <tr>\n",
       "      <th>total_owners</th>\n",
       "      <td>0.047740</td>\n",
       "      <td>0.014594</td>\n",
       "      <td>-0.000977</td>\n",
       "      <td>0.014532</td>\n",
       "      <td>0.008975</td>\n",
       "      <td>0.014532</td>\n",
       "      <td>0.118564</td>\n",
       "      <td>0.977664</td>\n",
       "      <td>0.137478</td>\n",
       "      <td>0.371017</td>\n",
       "      <td>1.000000</td>\n",
       "      <td>0.829875</td>\n",
       "      <td>0.688380</td>\n",
       "      <td>0.788820</td>\n",
       "      <td>0.954026</td>\n",
       "      <td>0.938422</td>\n",
       "      <td>0.183341</td>\n",
       "    </tr>\n",
       "    <tr>\n",
       "      <th>total_traders</th>\n",
       "      <td>0.064403</td>\n",
       "      <td>0.024708</td>\n",
       "      <td>-0.002381</td>\n",
       "      <td>0.019264</td>\n",
       "      <td>0.014484</td>\n",
       "      <td>0.019264</td>\n",
       "      <td>0.152313</td>\n",
       "      <td>0.807873</td>\n",
       "      <td>0.119452</td>\n",
       "      <td>0.455021</td>\n",
       "      <td>0.829875</td>\n",
       "      <td>1.000000</td>\n",
       "      <td>0.555836</td>\n",
       "      <td>0.631443</td>\n",
       "      <td>0.856526</td>\n",
       "      <td>0.801559</td>\n",
       "      <td>0.227302</td>\n",
       "    </tr>\n",
       "    <tr>\n",
       "      <th>total_wanters</th>\n",
       "      <td>0.062289</td>\n",
       "      <td>-0.008654</td>\n",
       "      <td>-0.003585</td>\n",
       "      <td>0.024289</td>\n",
       "      <td>0.017491</td>\n",
       "      <td>0.024289</td>\n",
       "      <td>0.154097</td>\n",
       "      <td>0.702433</td>\n",
       "      <td>0.196566</td>\n",
       "      <td>0.426708</td>\n",
       "      <td>0.688380</td>\n",
       "      <td>0.555836</td>\n",
       "      <td>1.000000</td>\n",
       "      <td>0.961002</td>\n",
       "      <td>0.709645</td>\n",
       "      <td>0.667608</td>\n",
       "      <td>0.254229</td>\n",
       "    </tr>\n",
       "    <tr>\n",
       "      <th>total_wishers</th>\n",
       "      <td>0.052534</td>\n",
       "      <td>-0.003786</td>\n",
       "      <td>-0.002499</td>\n",
       "      <td>0.020296</td>\n",
       "      <td>0.012737</td>\n",
       "      <td>0.020296</td>\n",
       "      <td>0.137476</td>\n",
       "      <td>0.805116</td>\n",
       "      <td>0.171375</td>\n",
       "      <td>0.377213</td>\n",
       "      <td>0.788820</td>\n",
       "      <td>0.631443</td>\n",
       "      <td>0.961002</td>\n",
       "      <td>1.000000</td>\n",
       "      <td>0.788538</td>\n",
       "      <td>0.764677</td>\n",
       "      <td>0.219025</td>\n",
       "    </tr>\n",
       "    <tr>\n",
       "      <th>total_comments</th>\n",
       "      <td>0.043818</td>\n",
       "      <td>0.023033</td>\n",
       "      <td>-0.001502</td>\n",
       "      <td>0.016890</td>\n",
       "      <td>0.010046</td>\n",
       "      <td>0.016890</td>\n",
       "      <td>0.113395</td>\n",
       "      <td>0.978708</td>\n",
       "      <td>0.123714</td>\n",
       "      <td>0.371031</td>\n",
       "      <td>0.954026</td>\n",
       "      <td>0.856526</td>\n",
       "      <td>0.709645</td>\n",
       "      <td>0.788538</td>\n",
       "      <td>1.000000</td>\n",
       "      <td>0.978213</td>\n",
       "      <td>0.180939</td>\n",
       "    </tr>\n",
       "    <tr>\n",
       "      <th>total_weights</th>\n",
       "      <td>0.036226</td>\n",
       "      <td>0.019061</td>\n",
       "      <td>-0.001457</td>\n",
       "      <td>0.017789</td>\n",
       "      <td>0.010172</td>\n",
       "      <td>0.017789</td>\n",
       "      <td>0.097084</td>\n",
       "      <td>0.975723</td>\n",
       "      <td>0.109691</td>\n",
       "      <td>0.313302</td>\n",
       "      <td>0.938422</td>\n",
       "      <td>0.801559</td>\n",
       "      <td>0.667608</td>\n",
       "      <td>0.764677</td>\n",
       "      <td>0.978213</td>\n",
       "      <td>1.000000</td>\n",
       "      <td>0.161004</td>\n",
       "    </tr>\n",
       "    <tr>\n",
       "      <th>average_weight</th>\n",
       "      <td>0.125318</td>\n",
       "      <td>-0.021892</td>\n",
       "      <td>-0.013448</td>\n",
       "      <td>0.090895</td>\n",
       "      <td>0.084405</td>\n",
       "      <td>0.090895</td>\n",
       "      <td>0.259782</td>\n",
       "      <td>0.150597</td>\n",
       "      <td>0.351081</td>\n",
       "      <td>0.482356</td>\n",
       "      <td>0.183341</td>\n",
       "      <td>0.227302</td>\n",
       "      <td>0.254229</td>\n",
       "      <td>0.219025</td>\n",
       "      <td>0.180939</td>\n",
       "      <td>0.161004</td>\n",
       "      <td>1.000000</td>\n",
       "    </tr>\n",
       "  </tbody>\n",
       "</table>\n",
       "</div>"
      ],
      "text/plain": [
       "                      yearpublished  minplayers  maxplayers  playingtime  \\\n",
       "yearpublished              1.000000    0.004308    0.004977     0.006235   \n",
       "minplayers                 0.004308    1.000000    0.037155     0.024320   \n",
       "maxplayers                 0.004977    0.037155    1.000000    -0.001020   \n",
       "playingtime                0.006235    0.024320   -0.001020     1.000000   \n",
       "minplaytime                0.005245    0.026569   -0.000950     0.967909   \n",
       "maxplaytime                0.006235    0.024320   -0.001020     1.000000   \n",
       "minage                     0.125281    0.110886    0.004508     0.053471   \n",
       "users_rated                0.037454    0.020364   -0.000858     0.010908   \n",
       "average_rating             0.108461   -0.032701   -0.008335     0.048994   \n",
       "bayes_average_rating       0.140998    0.034915   -0.003437     0.045341   \n",
       "total_owners               0.047740    0.014594   -0.000977     0.014532   \n",
       "total_traders              0.064403    0.024708   -0.002381     0.019264   \n",
       "total_wanters              0.062289   -0.008654   -0.003585     0.024289   \n",
       "total_wishers              0.052534   -0.003786   -0.002499     0.020296   \n",
       "total_comments             0.043818    0.023033   -0.001502     0.016890   \n",
       "total_weights              0.036226    0.019061   -0.001457     0.017789   \n",
       "average_weight             0.125318   -0.021892   -0.013448     0.090895   \n",
       "\n",
       "                      minplaytime  maxplaytime    minage  users_rated  \\\n",
       "yearpublished            0.005245     0.006235  0.125281     0.037454   \n",
       "minplayers               0.026569     0.024320  0.110886     0.020364   \n",
       "maxplayers              -0.000950    -0.001020  0.004508    -0.000858   \n",
       "playingtime              0.967909     1.000000  0.053471     0.010908   \n",
       "minplaytime              1.000000     0.967909  0.052454     0.005502   \n",
       "maxplaytime              0.967909     1.000000  0.053471     0.010908   \n",
       "minage                   0.052454     0.053471  1.000000     0.097885   \n",
       "users_rated              0.005502     0.010908  0.097885     1.000000   \n",
       "average_rating           0.043985     0.048994  0.210049     0.112564   \n",
       "bayes_average_rating     0.041845     0.045341  0.266937     0.317992   \n",
       "total_owners             0.008975     0.014532  0.118564     0.977664   \n",
       "total_traders            0.014484     0.019264  0.152313     0.807873   \n",
       "total_wanters            0.017491     0.024289  0.154097     0.702433   \n",
       "total_wishers            0.012737     0.020296  0.137476     0.805116   \n",
       "total_comments           0.010046     0.016890  0.113395     0.978708   \n",
       "total_weights            0.010172     0.017789  0.097084     0.975723   \n",
       "average_weight           0.084405     0.090895  0.259782     0.150597   \n",
       "\n",
       "                      average_rating  bayes_average_rating  total_owners  \\\n",
       "yearpublished               0.108461              0.140998      0.047740   \n",
       "minplayers                 -0.032701              0.034915      0.014594   \n",
       "maxplayers                 -0.008335             -0.003437     -0.000977   \n",
       "playingtime                 0.048994              0.045341      0.014532   \n",
       "minplaytime                 0.043985              0.041845      0.008975   \n",
       "maxplaytime                 0.048994              0.045341      0.014532   \n",
       "minage                      0.210049              0.266937      0.118564   \n",
       "users_rated                 0.112564              0.317992      0.977664   \n",
       "average_rating              1.000000              0.231563      0.137478   \n",
       "bayes_average_rating        0.231563              1.000000      0.371017   \n",
       "total_owners                0.137478              0.371017      1.000000   \n",
       "total_traders               0.119452              0.455021      0.829875   \n",
       "total_wanters               0.196566              0.426708      0.688380   \n",
       "total_wishers               0.171375              0.377213      0.788820   \n",
       "total_comments              0.123714              0.371031      0.954026   \n",
       "total_weights               0.109691              0.313302      0.938422   \n",
       "average_weight              0.351081              0.482356      0.183341   \n",
       "\n",
       "                      total_traders  total_wanters  total_wishers  \\\n",
       "yearpublished              0.064403       0.062289       0.052534   \n",
       "minplayers                 0.024708      -0.008654      -0.003786   \n",
       "maxplayers                -0.002381      -0.003585      -0.002499   \n",
       "playingtime                0.019264       0.024289       0.020296   \n",
       "minplaytime                0.014484       0.017491       0.012737   \n",
       "maxplaytime                0.019264       0.024289       0.020296   \n",
       "minage                     0.152313       0.154097       0.137476   \n",
       "users_rated                0.807873       0.702433       0.805116   \n",
       "average_rating             0.119452       0.196566       0.171375   \n",
       "bayes_average_rating       0.455021       0.426708       0.377213   \n",
       "total_owners               0.829875       0.688380       0.788820   \n",
       "total_traders              1.000000       0.555836       0.631443   \n",
       "total_wanters              0.555836       1.000000       0.961002   \n",
       "total_wishers              0.631443       0.961002       1.000000   \n",
       "total_comments             0.856526       0.709645       0.788538   \n",
       "total_weights              0.801559       0.667608       0.764677   \n",
       "average_weight             0.227302       0.254229       0.219025   \n",
       "\n",
       "                      total_comments  total_weights  average_weight  \n",
       "yearpublished               0.043818       0.036226        0.125318  \n",
       "minplayers                  0.023033       0.019061       -0.021892  \n",
       "maxplayers                 -0.001502      -0.001457       -0.013448  \n",
       "playingtime                 0.016890       0.017789        0.090895  \n",
       "minplaytime                 0.010046       0.010172        0.084405  \n",
       "maxplaytime                 0.016890       0.017789        0.090895  \n",
       "minage                      0.113395       0.097084        0.259782  \n",
       "users_rated                 0.978708       0.975723        0.150597  \n",
       "average_rating              0.123714       0.109691        0.351081  \n",
       "bayes_average_rating        0.371031       0.313302        0.482356  \n",
       "total_owners                0.954026       0.938422        0.183341  \n",
       "total_traders               0.856526       0.801559        0.227302  \n",
       "total_wanters               0.709645       0.667608        0.254229  \n",
       "total_wishers               0.788538       0.764677        0.219025  \n",
       "total_comments              1.000000       0.978213        0.180939  \n",
       "total_weights               0.978213       1.000000        0.161004  \n",
       "average_weight              0.180939       0.161004        1.000000  "
      ]
     },
     "execution_count": 176,
     "metadata": {},
     "output_type": "execute_result"
    }
   ],
   "source": [
    "# Correlation \n",
    "\n",
    "corr=games.corr(method ='pearson') \n",
    "corr"
   ]
  },
  {
   "cell_type": "code",
   "execution_count": 177,
   "metadata": {},
   "outputs": [
    {
     "data": {
      "image/png": "[encoded data removed]",
      "text/plain": [
       "<Figure size 864x648 with 2 Axes>"
      ]
     },
     "metadata": {
      "needs_background": "light"
     },
     "output_type": "display_data"
    }
   ],
   "source": [
    "# Correalation Matrix\n",
    "# Correlation Heatmap Using seaborn library\n",
    "\n",
    "fig = plt.figure(figsize=(12,9))\n",
    "\n",
    "sns.heatmap(corr,square=True)\n",
    "plt.show()"
   ]
  },
  {
   "cell_type": "code",
   "execution_count": 178,
   "metadata": {},
   "outputs": [
    {
     "data": {
      "text/plain": [
       "['type',\n",
       " 'name',\n",
       " 'yearpublished',\n",
       " 'minplayers',\n",
       " 'maxplayers',\n",
       " 'playingtime',\n",
       " 'minplaytime',\n",
       " 'maxplaytime',\n",
       " 'minage',\n",
       " 'users_rated',\n",
       " 'average_rating',\n",
       " 'bayes_average_rating',\n",
       " 'total_owners',\n",
       " 'total_traders',\n",
       " 'total_wanters',\n",
       " 'total_wishers',\n",
       " 'total_comments',\n",
       " 'total_weights',\n",
       " 'average_weight']"
      ]
     },
     "execution_count": 178,
     "metadata": {},
     "output_type": "execute_result"
    }
   ],
   "source": [
    "# Get all the columns from Dataset\n",
    "\n",
    "columns = games.columns.tolist()\n",
    "columns"
   ]
  },
  {
   "cell_type": "code",
   "execution_count": 179,
   "metadata": {},
   "outputs": [],
   "source": [
    "# Filter the Column to remove columns we dont want\n",
    "\n",
    "columns=[c for c in columns if c not in ['bayes_average_rating','average_rating','type','name',]]"
   ]
  },
  {
   "cell_type": "code",
   "execution_count": 180,
   "metadata": {},
   "outputs": [],
   "source": [
    "# Storing the variable we will be predicting on\n",
    "\n",
    "target=\"average_rating\""
   ]
  },
  {
   "cell_type": "markdown",
   "metadata": {},
   "source": [
    "# DEVELOPING MODEL"
   ]
  },
  {
   "cell_type": "code",
   "execution_count": 215,
   "metadata": {},
   "outputs": [],
   "source": [
    "# Splitting Data In Training Set and Test Set \n",
    "\n",
    "from sklearn.model_selection import train_test_split\n",
    "\n",
    "# Training Data\n",
    "\n",
    "train = games.sample(frac=0.8,random_state=1)\n",
    "\n",
    "\n",
    "# Testing Data\n",
    "\n",
    "test = games.loc[~games.index.isin(train.index)]"
   ]
  },
  {
   "cell_type": "code",
   "execution_count": 216,
   "metadata": {},
   "outputs": [
    {
     "name": "stdout",
     "output_type": "stream",
     "text": [
      "(45515, 19)\n",
      "(11379, 19)\n"
     ]
    }
   ],
   "source": [
    "# Shape of Test and Train\n",
    "\n",
    "print(train.shape)\n",
    "\n",
    "print(test.shape)"
   ]
  },
  {
   "cell_type": "markdown",
   "metadata": {},
   "source": [
    "# Linear Regression"
   ]
  },
  {
   "cell_type": "code",
   "execution_count": 217,
   "metadata": {},
   "outputs": [],
   "source": [
    "# Importing Linear regression model\n",
    "\n",
    "from sklearn.linear_model import LinearRegression\n",
    "\n",
    "# Importing Model Evaluation Matrix\n",
    "\n",
    "from sklearn.metrics import mean_squared_error"
   ]
  },
  {
   "cell_type": "code",
   "execution_count": 218,
   "metadata": {},
   "outputs": [
    {
     "data": {
      "text/plain": [
       "LinearRegression(copy_X=True, fit_intercept=True, n_jobs=None,\n",
       "         normalize=False)"
      ]
     },
     "execution_count": 218,
     "metadata": {},
     "output_type": "execute_result"
    }
   ],
   "source": [
    "# Initializing Model Class\n",
    "\n",
    "LR=LinearRegression()\n",
    "\n",
    "# Fitting the Model the Training Data\n",
    "\n",
    "LR.fit(train[columns], train[target])"
   ]
  },
  {
   "cell_type": "code",
   "execution_count": 219,
   "metadata": {},
   "outputs": [],
   "source": [
    "# Generating Prediction for Test Data\n",
    "\n",
    "prediction = LR.predict(test[columns])"
   ]
  },
  {
   "cell_type": "code",
   "execution_count": 220,
   "metadata": {},
   "outputs": [
    {
     "data": {
      "text/plain": [
       "2.0788190326293243"
      ]
     },
     "execution_count": 220,
     "metadata": {},
     "output_type": "execute_result"
    }
   ],
   "source": [
    "# Computation of ERROR\n",
    "\n",
    "mean_squared_error(prediction, test[target])"
   ]
  },
  {
   "cell_type": "markdown",
   "metadata": {},
   "source": [
    " # Random Forest\n",
    " "
   ]
  },
  {
   "cell_type": "code",
   "execution_count": 221,
   "metadata": {},
   "outputs": [],
   "source": [
    "#Importing Random Forest Model\n",
    "from sklearn.ensemble import RandomForestRegressor"
   ]
  },
  {
   "cell_type": "code",
   "execution_count": 222,
   "metadata": {},
   "outputs": [],
   "source": [
    "# Model Initialization\n",
    "\n",
    "RFR = RandomForestRegressor(n_estimators = 100, min_samples_leaf = 10, random_state = 1)\n"
   ]
  },
  {
   "cell_type": "code",
   "execution_count": 223,
   "metadata": {},
   "outputs": [
    {
     "data": {
      "text/plain": [
       "RandomForestRegressor(bootstrap=True, criterion='mse', max_depth=None,\n",
       "           max_features='auto', max_leaf_nodes=None,\n",
       "           min_impurity_decrease=0.0, min_impurity_split=None,\n",
       "           min_samples_leaf=10, min_samples_split=2,\n",
       "           min_weight_fraction_leaf=0.0, n_estimators=100, n_jobs=None,\n",
       "           oob_score=False, random_state=1, verbose=0, warm_start=False)"
      ]
     },
     "execution_count": 223,
     "metadata": {},
     "output_type": "execute_result"
    }
   ],
   "source": [
    "# Firring to Data\n",
    "\n",
    "RFR.fit(train[columns], train[target])"
   ]
  },
  {
   "cell_type": "code",
   "execution_count": 224,
   "metadata": {},
   "outputs": [],
   "source": [
    "# Prediction\n",
    "pred2 = RFR.predict(test[columns])"
   ]
  },
  {
   "cell_type": "code",
   "execution_count": 225,
   "metadata": {},
   "outputs": [
    {
     "data": {
      "text/plain": [
       "1.4458560046071653"
      ]
     },
     "execution_count": 225,
     "metadata": {},
     "output_type": "execute_result"
    }
   ],
   "source": [
    "# Computation of ERROR\n",
    "\n",
    "mean_squared_error(pred2, test[target])"
   ]
  },
  {
   "cell_type": "code",
   "execution_count": null,
   "metadata": {},
   "outputs": [],
   "source": []
  },
  {
   "cell_type": "code",
   "execution_count": null,
   "metadata": {},
   "outputs": [],
   "source": [
    "\n"
   ]
  },
  {
   "cell_type": "code",
   "execution_count": null,
   "metadata": {},
   "outputs": [],
   "source": []
  }
 ],
 "metadata": {
  "kernelspec": {
   "display_name": "Python 3",
   "language": "python",
   "name": "python3"
  },
  "language_info": {
   "codemirror_mode": {
    "name": "ipython",
    "version": 3
   },
   "file_extension": ".py",
   "mimetype": "text/x-python",
   "name": "python",
   "nbconvert_exporter": "python",
   "pygments_lexer": "ipython3",
   "version": "3.7.1"
  }
 },
 "nbformat": 4,
 "nbformat_minor": 2
}
